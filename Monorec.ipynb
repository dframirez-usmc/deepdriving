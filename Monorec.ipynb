{
 "cells": [
  {
   "cell_type": "code",
   "execution_count": 1,
   "id": "6a9742b2-6b34-4329-99e1-a333212b7a61",
   "metadata": {},
   "outputs": [
    {
     "ename": "ImportError",
     "evalue": "cannot import name 'map_fn'",
     "output_type": "error",
     "traceback": [
      "\u001b[0;31m---------------------------------------------------------------------------\u001b[0m",
      "\u001b[0;31mImportError\u001b[0m                               Traceback (most recent call last)",
      "\u001b[0;32m<ipython-input-1-24df815e7126>\u001b[0m in \u001b[0;36m<module>\u001b[0;34m\u001b[0m\n\u001b[1;32m      6\u001b[0m \u001b[0;31m#sys.path.append(\"~/deepdriving/MonoRec/\")\u001b[0m\u001b[0;34m\u001b[0m\u001b[0;34m\u001b[0m\u001b[0;34m\u001b[0m\u001b[0m\n\u001b[1;32m      7\u001b[0m \u001b[0;34m\u001b[0m\u001b[0m\n\u001b[0;32m----> 8\u001b[0;31m \u001b[0;32mfrom\u001b[0m \u001b[0mMonoRec\u001b[0m\u001b[0;34m.\u001b[0m\u001b[0mdata_loader\u001b[0m\u001b[0;34m.\u001b[0m\u001b[0mkitti_odometry_dataset\u001b[0m \u001b[0;32mimport\u001b[0m \u001b[0mKittiOdometryDataset\u001b[0m\u001b[0;34m\u001b[0m\u001b[0;34m\u001b[0m\u001b[0m\n\u001b[0m\u001b[1;32m      9\u001b[0m \u001b[0;32mfrom\u001b[0m \u001b[0mMonoRec\u001b[0m\u001b[0;34m.\u001b[0m\u001b[0mmodel\u001b[0m\u001b[0;34m.\u001b[0m\u001b[0mmonorec\u001b[0m\u001b[0;34m.\u001b[0m\u001b[0mmonorec_model\u001b[0m \u001b[0;32mimport\u001b[0m \u001b[0mMonoRecModel\u001b[0m\u001b[0;34m\u001b[0m\u001b[0;34m\u001b[0m\u001b[0m\n\u001b[1;32m     10\u001b[0m \u001b[0;32mfrom\u001b[0m \u001b[0mMonoRec\u001b[0m\u001b[0;34m.\u001b[0m\u001b[0mutils\u001b[0m \u001b[0;32mimport\u001b[0m \u001b[0munsqueezer\u001b[0m\u001b[0;34m,\u001b[0m \u001b[0mmap_fn\u001b[0m\u001b[0;34m,\u001b[0m \u001b[0mto\u001b[0m\u001b[0;34m\u001b[0m\u001b[0;34m\u001b[0m\u001b[0m\n",
      "\u001b[0;32m~/deepdriving/MonoRec/data_loader/kitti_odometry_dataset.py\u001b[0m in \u001b[0;36m<module>\u001b[0;34m\u001b[0m\n\u001b[1;32m     11\u001b[0m \u001b[0;32mfrom\u001b[0m \u001b[0mtorch\u001b[0m\u001b[0;34m.\u001b[0m\u001b[0mutils\u001b[0m\u001b[0;34m.\u001b[0m\u001b[0mdata\u001b[0m \u001b[0;32mimport\u001b[0m \u001b[0mDataset\u001b[0m\u001b[0;34m\u001b[0m\u001b[0;34m\u001b[0m\u001b[0m\n\u001b[1;32m     12\u001b[0m \u001b[0;34m\u001b[0m\u001b[0m\n\u001b[0;32m---> 13\u001b[0;31m \u001b[0;32mfrom\u001b[0m \u001b[0mutils\u001b[0m \u001b[0;32mimport\u001b[0m \u001b[0mmap_fn\u001b[0m\u001b[0;34m\u001b[0m\u001b[0;34m\u001b[0m\u001b[0m\n\u001b[0m\u001b[1;32m     14\u001b[0m \u001b[0;34m\u001b[0m\u001b[0m\n\u001b[1;32m     15\u001b[0m \u001b[0;34m\u001b[0m\u001b[0m\n",
      "\u001b[0;31mImportError\u001b[0m: cannot import name 'map_fn'"
     ]
    }
   ],
   "source": [
    "import sys\n",
    "import time\n",
    "import torch\n",
    "from pathlib import Path\n",
    "import matplotlib.pyplot as plt\n",
    "#sys.path.append(\"~/deepdriving/MonoRec/\")\n",
    "\n",
    "from MonoRec.data_loader.kitti_odometry_dataset import KittiOdometryDataset\n",
    "from MonoRec.model.monorec.monorec_model import MonoRecModel\n",
    "from MonoRec.utils import unsqueezer, map_fn, to\n",
    "\n",
    "target_image_size = (256, 512)\n",
    "\n",
    "device = \"cuda:0\" if torch.cuda.is_available() else \"cpu\"\n",
    "\n",
    "dataset = KittiOdometryDataset(\"/Users/ebu/Downloads/MonoRec-main/example/data/kitti\",sequences=[\"07\"], target_image_size=target_image_size, frame_count=2,\n",
    "                               depth_folder=\"image_depth_annotated\", lidar_depth=True, use_dso_poses=True,\n",
    "                               use_index_mask=None)\n",
    "\n",
    "# Next three lines are a hack required because Kitti files are incomplete\n",
    "dataset._dataset_sizes = [1000]\n",
    "dataset._datasets[0].cam2_files = [f\"/Users/ebu/Downloads/MonoRec-main/example/data/kitti/sequences/07/image_2/{i:06d}.png\" for i in range(dataset._dataset_sizes[0])]\n",
    "dataset._datasets[0].cam3_files = [f\"/Users/ebu/Downloads/MonoRec-main/example/data/kitti/sequences/07/image_3/{i:06d}.png\" for i in range(dataset._dataset_sizes[0])]\n",
    "\n",
    "checkpoint_location = Path(\"/Users/ebu/Downloads/monorec_depth_ref.pth\")\n",
    "\n",
    "inv_depth_min_max = [0.33, 0.0025]\n",
    "\n",
    "print(\"Initializing model...\")\n",
    "monorec_model = MonoRecModel(checkpoint_location=checkpoint_location, inv_depth_min_max=inv_depth_min_max)\n",
    "\n",
    "monorec_model.to(device)\n",
    "monorec_model.eval()\n",
    "\n",
    "print(\"Fetching data...\")\n",
    "index = 164\n",
    "# Corresponds to image index 169\n",
    "\n",
    "batch, depth = dataset.__getitem__(index)\n",
    "batch = map_fn(batch, unsqueezer)\n",
    "depth = map_fn(depth, unsqueezer)\n",
    "\n",
    "batch = to(batch, device)\n",
    "\n",
    "print(\"Starting inference...\")\n",
    "s = time.time()\n",
    "with torch.no_grad():\n",
    "    data = monorec_model(batch)\n",
    "\n",
    "prediction = data[\"result\"][0, 0].cpu()\n",
    "mask = data[\"cv_mask\"][0, 0].cpu()\n",
    "depth = depth[0, 0].cpu()\n",
    "\n",
    "e = time.time()\n",
    "print(f\"Inference took {e - s}s\")\n",
    "\n",
    "plt.imsave(\"depth.png\", prediction.detach().squeeze())\n",
    "plt.imsave(\"mask.png\", mask.detach().squeeze())\n",
    "plt.imsave(\"kf.png\", batch[\"keyframe\"][0].permute(1, 2, 0).cpu().numpy() + 0.5)\n",
    "\n",
    "plt.title(f\"MonoRec (took {e - s}s)\")\n",
    "plt.imshow(prediction.detach().squeeze(), vmin=1 / 80, vmax=1 / 5)\n",
    "plt.show()\n",
    "plt.imshow(mask.detach().squeeze())\n",
    "plt.show()\n",
    "plt.imshow(batch[\"keyframe\"][0].permute(1, 2, 0).cpu() + .5)\n",
    "plt.show()\n"
   ]
  },
  {
   "cell_type": "code",
   "execution_count": null,
   "id": "91e47b47-df75-4277-b468-354ce7ad6d3a",
   "metadata": {},
   "outputs": [],
   "source": []
  }
 ],
 "metadata": {
  "kernelspec": {
   "display_name": "Python 3",
   "language": "python",
   "name": "python3"
  },
  "language_info": {
   "codemirror_mode": {
    "name": "ipython",
    "version": 3
   },
   "file_extension": ".py",
   "mimetype": "text/x-python",
   "name": "python",
   "nbconvert_exporter": "python",
   "pygments_lexer": "ipython3",
   "version": "3.6.15"
  },
  "toc-showmarkdowntxt": true,
  "toc-showtags": true
 },
 "nbformat": 4,
 "nbformat_minor": 5
}
