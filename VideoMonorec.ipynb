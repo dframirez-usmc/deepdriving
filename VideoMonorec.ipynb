{
 "cells": [
  {
   "cell_type": "code",
   "execution_count": null,
   "id": "4643cd90",
   "metadata": {},
   "outputs": [],
   "source": [
    "import sys\n",
    "import time\n",
    "import torch\n",
    "from pathlib import Path\n",
    "import matplotlib.pyplot as plt\n",
    "import os\n",
    "\n",
    "print(os.getcwd())\n",
    "os.chdir('..')\n",
    "print(os.getcwd())"
   ]
  },
  {
   "cell_type": "code",
   "execution_count": null,
   "id": "e12441e3",
   "metadata": {},
   "outputs": [],
   "source": [
    "# coming from the MonoRec directory\n",
    "home = str(Path.home())\n",
    "sys.path.append(os.path.join(home, \"deepdriving/MonoRec\"))\n",
    "from data_loader.kitti_odometry_dataset import KittiOdometryDataset\n",
    "from model.monorec.monorec_model import MonoRecModel\n",
    "from utils import unsqueezer, map_fn, to"
   ]
  },
  {
   "cell_type": "code",
   "execution_count": null,
   "id": "90645923",
   "metadata": {
    "scrolled": false
   },
   "outputs": [],
   "source": [
    "target_image_size = (256, 512)\n",
    "\n",
    "device = \"cuda:0\" if torch.cuda.is_available() else \"cpu\"\n",
    "\n",
    "kitti_path = os.path.join(home, \"KITTI/dataset\")\n",
    "\n",
    "dataset = KittiOdometryDataset(kitti_path, \n",
    "                               frame_count=2,\n",
    "                               sequences=[\"04\"], \n",
    "                               depth_folder=\"image_depth_annotated\", \n",
    "                               target_image_size=target_image_size, \n",
    "                               max_length=None,\n",
    "                               offset_d=0,\n",
    "                               use_color=True,\n",
    "                               use_dso_poses=False,\n",
    "                               lidar_depth=True, \n",
    "                               dso_depth=False,\n",
    "                               annotated_lidar=True,\n",
    "                               return_stereo=False,\n",
    "                               return_mvobj_mask=False,\n",
    "                               use_index_mask=())\n",
    "\n",
    "checkpoint_location = os.path.join(home, \"deepdriving/MonoRec/saved/checkpoints/monorec_depth_ref.pth\")\n",
    "inv_depth_min_max = [0.33, 0.0025]\n",
    "print(\"Initializing model...\")\n",
    "monorec_model = MonoRecModel(checkpoint_location=checkpoint_location, \n",
    "                             inv_depth_min_max=inv_depth_min_max)\n",
    "\n",
    "monorec_model.to(device)\n",
    "monorec_model.eval()\n",
    "\n",
    "print('YAY! Im ready')"
   ]
  },
  {
   "cell_type": "code",
   "execution_count": null,
   "id": "de50031f-3af7-4837-8a4b-fdc0d0dfbd64",
   "metadata": {
    "scrolled": true
   },
   "outputs": [],
   "source": [
    "for i in range(1101):\n",
    "    \n",
    "    print(\"Fetching data...\")\n",
    "    index = i\n",
    "\n",
    "    batch, depth = dataset.__getitem__(index)\n",
    "    batch = map_fn(batch, unsqueezer)\n",
    "    depth = map_fn(depth, unsqueezer)\n",
    "\n",
    "    batch = to(batch, device)\n",
    "\n",
    "    print(\"Starting inference...\")\n",
    "    s = time.time()\n",
    "    with torch.no_grad():\n",
    "        data = monorec_model(batch)\n",
    "\n",
    "    prediction = data[\"result\"][0, 0].cpu()\n",
    "    mask = data[\"cv_mask\"][0, 0].cpu()\n",
    "    depth = depth[0, 0].cpu()\n",
    "\n",
    "    e = time.time()\n",
    "    print(f\"Inference took {e - s}s\")\n",
    "\n",
    "    plt.imsave(\"depth\"+str(i)+\".png\", prediction.detach().squeeze())\n",
    "    plt.imsave(\"mask\"+str(i)+\".png\", mask.detach().squeeze())\n",
    "    plt.imsave(\"kf\"+str(i)+\".png\", batch[\"keyframe\"][0].permute(1, 2, 0).cpu().numpy() + 0.5)\n",
    "\n",
    "    plt.title(f\"MonoRec (took {e - s}s)\")\n",
    "    plt.imshow(prediction.detach().squeeze(), vmin=1 / 80, vmax=1 / 5)\n",
    "    plt.show()\n",
    "    plt.imshow(mask.detach().squeeze())\n",
    "    plt.show()\n",
    "    plt.imshow(batch[\"keyframe\"][0].permute(1, 2, 0).cpu() + .5)\n",
    "    plt.show()\n",
    "    time.sleep(2)\n"
   ]
  },
  {
   "cell_type": "code",
   "execution_count": null,
   "id": "9cb4b571-1758-4967-8a6b-1ba9ad3f4610",
   "metadata": {},
   "outputs": [],
   "source": []
  },
  {
   "cell_type": "code",
   "execution_count": null,
   "id": "247c6bf9-28e0-4874-9f68-cfb9358f6f0f",
   "metadata": {},
   "outputs": [],
   "source": []
  }
 ],
 "metadata": {
  "kernelspec": {
   "display_name": "Python 3",
   "language": "python",
   "name": "python3"
  },
  "language_info": {
   "codemirror_mode": {
    "name": "ipython",
    "version": 3
   },
   "file_extension": ".py",
   "mimetype": "text/x-python",
   "name": "python",
   "nbconvert_exporter": "python",
   "pygments_lexer": "ipython3",
   "version": "3.6.15"
  },
  "toc-showmarkdowntxt": true,
  "toc-showtags": true
 },
 "nbformat": 4,
 "nbformat_minor": 5
}
