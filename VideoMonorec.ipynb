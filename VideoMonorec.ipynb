{
 "cells": [
  {
   "cell_type": "code",
   "execution_count": 1,
   "id": "de50031f-3af7-4837-8a4b-fdc0d0dfbd64",
   "metadata": {},
   "outputs": [
    {
     "name": "stdout",
     "output_type": "stream",
     "text": [
      "Initializing model...\n"
     ]
    },
    {
     "name": "stderr",
     "output_type": "stream",
     "text": [
      "/Users/ebu/miniforge3/envs/deepdriving/lib/python3.9/site-packages/torchvision/models/_utils.py:135: UserWarning: Using 'weights' as positional parameter(s) is deprecated since 0.13 and will be removed in 0.15. Please use keyword parameter(s) instead.\n",
      "  warnings.warn(\n",
      "/Users/ebu/miniforge3/envs/deepdriving/lib/python3.9/site-packages/torchvision/models/_utils.py:223: UserWarning: Arguments other than a weight enum or `None` for 'weights' are deprecated since 0.13 and will be removed in 0.15. The current behavior is equivalent to passing `weights=ResNet18_Weights.IMAGENET1K_V1`. You can also use `weights=ResNet18_Weights.DEFAULT` to get the most up-to-date weights.\n",
      "  warnings.warn(msg)\n"
     ]
    },
    {
     "name": "stdout",
     "output_type": "stream",
     "text": [
      "Fetching data...\n"
     ]
    },
    {
     "ename": "FileNotFoundError",
     "evalue": "[Errno 2] No such file or directory: '/Users/ebu/Desktop/dataset/sequences/07/image_depth_annotated/000165.png'",
     "output_type": "error",
     "traceback": [
      "\u001b[0;31m---------------------------------------------------------------------------\u001b[0m",
      "\u001b[0;31mFileNotFoundError\u001b[0m                         Traceback (most recent call last)",
      "Input \u001b[0;32mIn [1]\u001b[0m, in \u001b[0;36m<cell line: 38>\u001b[0;34m()\u001b[0m\n\u001b[1;32m     41\u001b[0m index \u001b[38;5;241m=\u001b[39m \u001b[38;5;241m164\u001b[39m\u001b[38;5;241m+\u001b[39mi\n\u001b[1;32m     42\u001b[0m \u001b[38;5;66;03m# Corresponds to image index 169\u001b[39;00m\n\u001b[0;32m---> 44\u001b[0m batch, depth \u001b[38;5;241m=\u001b[39m \u001b[43mdataset\u001b[49m\u001b[38;5;241;43m.\u001b[39;49m\u001b[38;5;21;43m__getitem__\u001b[39;49m\u001b[43m(\u001b[49m\u001b[43mindex\u001b[49m\u001b[43m)\u001b[49m\n\u001b[1;32m     45\u001b[0m batch \u001b[38;5;241m=\u001b[39m map_fn(batch, unsqueezer)\n\u001b[1;32m     46\u001b[0m depth \u001b[38;5;241m=\u001b[39m map_fn(depth, unsqueezer)\n",
      "File \u001b[0;32m~/Downloads/MonoRec-main/data_loader/kitti_odometry_dataset.py:243\u001b[0m, in \u001b[0;36mKittiOdometryDataset.__getitem__\u001b[0;34m(self, index)\u001b[0m\n\u001b[1;32m    240\u001b[0m     keyframe_depth \u001b[38;5;241m=\u001b[39m torch\u001b[38;5;241m.\u001b[39mzeros(\u001b[38;5;241m1\u001b[39m, \u001b[38;5;28mself\u001b[39m\u001b[38;5;241m.\u001b[39mtarget_image_size[\u001b[38;5;241m0\u001b[39m], \u001b[38;5;28mself\u001b[39m\u001b[38;5;241m.\u001b[39mtarget_image_size[\u001b[38;5;241m1\u001b[39m], dtype\u001b[38;5;241m=\u001b[39mtorch\u001b[38;5;241m.\u001b[39mfloat32)\n\u001b[1;32m    242\u001b[0m \u001b[38;5;28;01mif\u001b[39;00m \u001b[38;5;28mself\u001b[39m\u001b[38;5;241m.\u001b[39mdso_depth:\n\u001b[0;32m--> 243\u001b[0m     dso_depth \u001b[38;5;241m=\u001b[39m \u001b[38;5;28mself\u001b[39m\u001b[38;5;241m.\u001b[39mpreprocess_depth_dso(\u001b[43mImage\u001b[49m\u001b[38;5;241;43m.\u001b[39;49m\u001b[43mopen\u001b[49m\u001b[43m(\u001b[49m\u001b[43mdepth_folder\u001b[49m\u001b[43m \u001b[49m\u001b[38;5;241;43m/\u001b[39;49m\u001b[43m \u001b[49m\u001b[38;5;124;43mf\u001b[39;49m\u001b[38;5;124;43m\"\u001b[39;49m\u001b[38;5;132;43;01m{\u001b[39;49;00m\u001b[43m(\u001b[49m\u001b[43mindex\u001b[49m\u001b[43m \u001b[49m\u001b[38;5;241;43m+\u001b[39;49m\u001b[43m \u001b[49m\u001b[38;5;28;43mself\u001b[39;49m\u001b[38;5;241;43m.\u001b[39;49m\u001b[43m_offset\u001b[49m\u001b[43m)\u001b[49m\u001b[38;5;132;43;01m:\u001b[39;49;00m\u001b[38;5;124;43m06d\u001b[39;49m\u001b[38;5;132;43;01m}\u001b[39;49;00m\u001b[38;5;124;43m.png\u001b[39;49m\u001b[38;5;124;43m\"\u001b[39;49m\u001b[43m)\u001b[49m, \u001b[38;5;28mself\u001b[39m\u001b[38;5;241m.\u001b[39mdso_depth_parameters[dataset_index], \u001b[38;5;28mself\u001b[39m\u001b[38;5;241m.\u001b[39m_crop_boxes[dataset_index])\u001b[38;5;241m.\u001b[39munsqueeze(\u001b[38;5;241m0\u001b[39m)\n\u001b[1;32m    244\u001b[0m     mask \u001b[38;5;241m=\u001b[39m dso_depth \u001b[38;5;241m==\u001b[39m \u001b[38;5;241m0\u001b[39m\n\u001b[1;32m    245\u001b[0m     dso_depth[mask] \u001b[38;5;241m=\u001b[39m keyframe_depth[mask]\n",
      "File \u001b[0;32m~/miniforge3/envs/deepdriving/lib/python3.9/site-packages/PIL/Image.py:3068\u001b[0m, in \u001b[0;36mopen\u001b[0;34m(fp, mode, formats)\u001b[0m\n\u001b[1;32m   3065\u001b[0m     filename \u001b[38;5;241m=\u001b[39m fp\n\u001b[1;32m   3067\u001b[0m \u001b[38;5;28;01mif\u001b[39;00m filename:\n\u001b[0;32m-> 3068\u001b[0m     fp \u001b[38;5;241m=\u001b[39m \u001b[43mbuiltins\u001b[49m\u001b[38;5;241;43m.\u001b[39;49m\u001b[43mopen\u001b[49m\u001b[43m(\u001b[49m\u001b[43mfilename\u001b[49m\u001b[43m,\u001b[49m\u001b[43m \u001b[49m\u001b[38;5;124;43m\"\u001b[39;49m\u001b[38;5;124;43mrb\u001b[39;49m\u001b[38;5;124;43m\"\u001b[39;49m\u001b[43m)\u001b[49m\n\u001b[1;32m   3069\u001b[0m     exclusive_fp \u001b[38;5;241m=\u001b[39m \u001b[38;5;28;01mTrue\u001b[39;00m\n\u001b[1;32m   3071\u001b[0m \u001b[38;5;28;01mtry\u001b[39;00m:\n",
      "\u001b[0;31mFileNotFoundError\u001b[0m: [Errno 2] No such file or directory: '/Users/ebu/Desktop/dataset/sequences/07/image_depth_annotated/000165.png'"
     ]
    }
   ],
   "source": [
    "import time\n",
    "from pathlib import Path\n",
    "\n",
    "import matplotlib.pyplot as plt\n",
    "import torch\n",
    "\n",
    "import sys\n",
    "sys.path.append(\"/Users/ebu/Downloads/MonoRec-main\")\n",
    "\n",
    "from data_loader.kitti_odometry_dataset import KittiOdometryDataset\n",
    "from model.monorec.monorec_model import MonoRecModel\n",
    "from utils import unsqueezer, map_fn, to\n",
    "\n",
    "target_image_size = (256, 512)\n",
    "\n",
    "device = \"cuda:0\" if torch.cuda.is_available() else \"cpu\"\n",
    "\n",
    "checkpoint_location = Path(\"/Users/ebu/Downloads/monorec_depth_ref.pth\")\n",
    "\n",
    "inv_depth_min_max = [0.33, 0.0025]\n",
    "\n",
    "print(\"Initializing model...\")\n",
    "monorec_model = MonoRecModel(checkpoint_location=checkpoint_location, inv_depth_min_max=inv_depth_min_max)\n",
    "monorec_model.to(device)\n",
    "monorec_model.eval()\n",
    "\n",
    "dataset = KittiOdometryDataset(\"/Users/ebu/Desktop/dataset\",sequences=[\"07\"], target_image_size=target_image_size, frame_count=2,\n",
    "                                   depth_folder=\"image_depth_annotated\",lidar_depth=False, use_dso_poses=False,\n",
    "                                   use_index_mask=None)\n",
    "\n",
    "# Next three lines are a hack required because Kitti files are incomplete\n",
    "dataset._dataset_sizes = [1000]\n",
    "dataset._datasets[0].cam2_files = [f\"/Users/ebu/Desktop/dataset/sequences/07/image_0/{i:06d}.png\" for i in range(dataset._dataset_sizes[0])]\n",
    "dataset._datasets[0].cam3_files = [f\"/Users/ebu/Desktop/dataset/sequences/07/image_1/{i:06d}.png\" for i in range(dataset._dataset_sizes[0])]\n",
    "\n",
    "\n",
    "\n",
    "for i in range(10):\n",
    "    \n",
    "    print(\"Fetching data...\")\n",
    "    index = 164+i\n",
    "    # Corresponds to image index 169\n",
    "\n",
    "    batch, depth = dataset.__getitem__(index)\n",
    "    batch = map_fn(batch, unsqueezer)\n",
    "    depth = map_fn(depth, unsqueezer)\n",
    "\n",
    "    batch = to(batch, device)\n",
    "\n",
    "    print(\"Starting inference...\")\n",
    "    s = time.time()\n",
    "    with torch.no_grad():\n",
    "        data = monorec_model(batch)\n",
    "\n",
    "    prediction = data[\"result\"][0, 0].cpu()\n",
    "    mask = data[\"cv_mask\"][0, 0].cpu()\n",
    "    depth = depth[0, 0].cpu()\n",
    "\n",
    "    e = time.time()\n",
    "    print(f\"Inference took {e - s}s\")\n",
    "\n",
    "    plt.imsave(\"depth\"+str(i)+\".png\", prediction.detach().squeeze())\n",
    "    plt.imsave(\"mask\"+str(i)+\".png\", mask.detach().squeeze())\n",
    "    plt.imsave(\"kf\"+str(i)+\".png\", batch[\"keyframe\"][0].permute(1, 2, 0).cpu().numpy() + 0.5)\n",
    "\n",
    "    plt.title(f\"MonoRec (took {e - s}s)\")\n",
    "    plt.imshow(prediction.detach().squeeze(), vmin=1 / 80, vmax=1 / 5)\n",
    "    plt.show()\n",
    "    plt.imshow(mask.detach().squeeze())\n",
    "    plt.show()\n",
    "    plt.imshow(batch[\"keyframe\"][0].permute(1, 2, 0).cpu() + .5)\n",
    "    plt.show()\n",
    "    time.sleep(2)\n"
   ]
  },
  {
   "cell_type": "code",
   "execution_count": null,
   "id": "9cb4b571-1758-4967-8a6b-1ba9ad3f4610",
   "metadata": {},
   "outputs": [],
   "source": []
  },
  {
   "cell_type": "code",
   "execution_count": null,
   "id": "247c6bf9-28e0-4874-9f68-cfb9358f6f0f",
   "metadata": {},
   "outputs": [],
   "source": []
  }
 ],
 "metadata": {
  "kernelspec": {
   "display_name": "Python 3 (ipykernel)",
   "language": "python",
   "name": "python3"
  },
  "language_info": {
   "codemirror_mode": {
    "name": "ipython",
    "version": 3
   },
   "file_extension": ".py",
   "mimetype": "text/x-python",
   "name": "python",
   "nbconvert_exporter": "python",
   "pygments_lexer": "ipython3",
   "version": "3.9.0"
  },
  "toc-showmarkdowntxt": true,
  "toc-showtags": true
 },
 "nbformat": 4,
 "nbformat_minor": 5
}
